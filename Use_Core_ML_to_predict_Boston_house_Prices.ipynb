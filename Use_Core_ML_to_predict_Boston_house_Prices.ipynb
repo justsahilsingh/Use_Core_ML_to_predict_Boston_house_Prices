{
  "cells": [
    {
      "metadata": {
        "id": "VMahZ4njzDs1"
      },
      "cell_type": "markdown",
      "source": [
        "# Use Core ML to predict Boston house prices with `ibm-watson-machine-learning`"
      ]
    },
    {
      "metadata": {
        "id": "UjLt6l8FzDs3"
      },
      "cell_type": "markdown",
      "source": [
        "<a id=\"setup\"></a>\n",
        "## 1. Set up the environment\n",
        "\n"
      ]
    },
    {
      "metadata": {
        "id": "ZQMtDZhhzDs4"
      },
      "cell_type": "code",
      "source": [
        "api_key = 'API KEY'\n",
        "location = 'Location'"
      ],
      "execution_count": null,
      "outputs": []
    },
    {
      "metadata": {
        "id": "wr3Fj9-PzDs5"
      },
      "cell_type": "code",
      "source": [
        "wml_credentials = {\n",
        "    \"apikey\": api_key,\n",
        "    \"url\": 'https://' + location + '.ml.cloud.ibm.com'\n",
        "}"
      ],
      "execution_count": null,
      "outputs": []
    },
    {
      "metadata": {
        "id": "iZP35nuIzDs5",
        "outputId": "377212e2-9f5b-41ba-87dc-cf518bd4d653"
      },
      "cell_type": "code",
      "source": [
        "!pip install -U ibm-watson-machine-learning"
      ],
      "execution_count": null,
      "outputs": [
        {
          "output_type": "stream",
          "text": "Requirement already satisfied: ibm-watson-machine-learning in /opt/conda/envs/Python-3.10/lib/python3.10/site-packages (1.0.308)\nRequirement already satisfied: ibm-cos-sdk<2.14.0,>=2.12.0 in /opt/conda/envs/Python-3.10/lib/python3.10/site-packages (from ibm-watson-machine-learning) (2.12.0)\nRequirement already satisfied: lomond in /opt/conda/envs/Python-3.10/lib/python3.10/site-packages (from ibm-watson-machine-learning) (0.3.3)\nRequirement already satisfied: packaging in /opt/conda/envs/Python-3.10/lib/python3.10/site-packages (from ibm-watson-machine-learning) (21.3)\nRequirement already satisfied: importlib-metadata in /opt/conda/envs/Python-3.10/lib/python3.10/site-packages (from ibm-watson-machine-learning) (4.11.3)\nRequirement already satisfied: certifi in /opt/conda/envs/Python-3.10/lib/python3.10/site-packages (from ibm-watson-machine-learning) (2023.5.7)\nRequirement already satisfied: requests in /opt/conda/envs/Python-3.10/lib/python3.10/site-packages (from ibm-watson-machine-learning) (2.29.0)\nRequirement already satisfied: pandas<1.6.0,>=0.24.2 in /opt/conda/envs/Python-3.10/lib/python3.10/site-packages (from ibm-watson-machine-learning) (1.4.3)\nRequirement already satisfied: tabulate in /opt/conda/envs/Python-3.10/lib/python3.10/site-packages (from ibm-watson-machine-learning) (0.8.10)\nRequirement already satisfied: urllib3 in /opt/conda/envs/Python-3.10/lib/python3.10/site-packages (from ibm-watson-machine-learning) (1.26.11)\nRequirement already satisfied: jmespath<1.0.0,>=0.10.0 in /opt/conda/envs/Python-3.10/lib/python3.10/site-packages (from ibm-cos-sdk<2.14.0,>=2.12.0->ibm-watson-machine-learning) (0.10.0)\nRequirement already satisfied: ibm-cos-sdk-core==2.12.0 in /opt/conda/envs/Python-3.10/lib/python3.10/site-packages (from ibm-cos-sdk<2.14.0,>=2.12.0->ibm-watson-machine-learning) (2.12.0)\nRequirement already satisfied: ibm-cos-sdk-s3transfer==2.12.0 in /opt/conda/envs/Python-3.10/lib/python3.10/site-packages (from ibm-cos-sdk<2.14.0,>=2.12.0->ibm-watson-machine-learning) (2.12.0)\nRequirement already satisfied: python-dateutil<3.0.0,>=2.8.2 in /opt/conda/envs/Python-3.10/lib/python3.10/site-packages (from ibm-cos-sdk-core==2.12.0->ibm-cos-sdk<2.14.0,>=2.12.0->ibm-watson-machine-learning) (2.8.2)\nRequirement already satisfied: pytz>=2020.1 in /opt/conda/envs/Python-3.10/lib/python3.10/site-packages (from pandas<1.6.0,>=0.24.2->ibm-watson-machine-learning) (2022.1)\nRequirement already satisfied: numpy>=1.21.0 in /opt/conda/envs/Python-3.10/lib/python3.10/site-packages (from pandas<1.6.0,>=0.24.2->ibm-watson-machine-learning) (1.23.1)\nRequirement already satisfied: charset-normalizer<4,>=2 in /opt/conda/envs/Python-3.10/lib/python3.10/site-packages (from requests->ibm-watson-machine-learning) (2.0.4)\nRequirement already satisfied: idna<4,>=2.5 in /opt/conda/envs/Python-3.10/lib/python3.10/site-packages (from requests->ibm-watson-machine-learning) (3.3)\nRequirement already satisfied: zipp>=0.5 in /opt/conda/envs/Python-3.10/lib/python3.10/site-packages (from importlib-metadata->ibm-watson-machine-learning) (3.8.0)\nRequirement already satisfied: six>=1.10.0 in /opt/conda/envs/Python-3.10/lib/python3.10/site-packages (from lomond->ibm-watson-machine-learning) (1.16.0)\nRequirement already satisfied: pyparsing!=3.0.5,>=2.0.2 in /opt/conda/envs/Python-3.10/lib/python3.10/site-packages (from packaging->ibm-watson-machine-learning) (3.0.9)\n",
          "name": "stdout"
        }
      ]
    },
    {
      "metadata": {
        "id": "wqCYe3uDzDs5",
        "outputId": "9f5f7b3c-cfc3-4410-f855-016704518029"
      },
      "cell_type": "code",
      "source": [
        "from ibm_watson_machine_learning import APIClient\n",
        "\n",
        "client = APIClient(wml_credentials)"
      ],
      "execution_count": null,
      "outputs": [
        {
          "output_type": "stream",
          "text": "The specified url is not valid. To authenticate with your Cloud Pak for Data installed software, add `\"instance_id\": \"openshift\"` to your credentials. To authenticate with your Cloud Pak for Data as a Service account, see https://dataplatform.cloud.ibm.com/docs/content/wsj/analyze-data/ml-authentication.html .\n",
          "name": "stderr"
        },
        {
          "output_type": "error",
          "ename": "WMLClientError",
          "evalue": "The specified url is not valid. To authenticate with your Cloud Pak for Data installed software, add `\"instance_id\": \"openshift\"` to your credentials. To authenticate with your Cloud Pak for Data as a Service account, see https://dataplatform.cloud.ibm.com/docs/content/wsj/analyze-data/ml-authentication.html .",
          "traceback": [
            "\u001b[0;31m---------------------------------------------------------------------------\u001b[0m",
            "\u001b[0;31mWMLClientError\u001b[0m                            Traceback (most recent call last)",
            "Input \u001b[0;32mIn [4]\u001b[0m, in \u001b[0;36m<cell line: 3>\u001b[0;34m()\u001b[0m\n\u001b[1;32m      1\u001b[0m \u001b[38;5;28;01mfrom\u001b[39;00m \u001b[38;5;21;01mibm_watson_machine_learning\u001b[39;00m \u001b[38;5;28;01mimport\u001b[39;00m APIClient\n\u001b[0;32m----> 3\u001b[0m client \u001b[38;5;241m=\u001b[39m \u001b[43mAPIClient\u001b[49m\u001b[43m(\u001b[49m\u001b[43mwml_credentials\u001b[49m\u001b[43m)\u001b[49m\n",
            "File \u001b[0;32m/opt/conda/envs/Python-3.10/lib/python3.10/site-packages/ibm_watson_machine_learning/client.py:166\u001b[0m, in \u001b[0;36mAPIClient.__init__\u001b[0;34m(self, wml_credentials, project_id, verify)\u001b[0m\n\u001b[1;32m    164\u001b[0m         \u001b[38;5;28mself\u001b[39m\u001b[38;5;241m.\u001b[39mCAMS_URL \u001b[38;5;241m=\u001b[39m \u001b[38;5;28mself\u001b[39m\u001b[38;5;241m.\u001b[39mPLATFORM_URLS_MAP[\u001b[38;5;28mself\u001b[39m\u001b[38;5;241m.\u001b[39mwml_credentials[\u001b[38;5;124mu\u001b[39m\u001b[38;5;124m'\u001b[39m\u001b[38;5;124murl\u001b[39m\u001b[38;5;124m'\u001b[39m]]\n\u001b[1;32m    165\u001b[0m     \u001b[38;5;28;01melse\u001b[39;00m:\n\u001b[0;32m--> 166\u001b[0m         \u001b[38;5;28;01mraise\u001b[39;00m WMLClientError(Messages\u001b[38;5;241m.\u001b[39mget_message(message_id\u001b[38;5;241m=\u001b[39m\u001b[38;5;124m\"\u001b[39m\u001b[38;5;124minvalid_cloud_scenario_url\u001b[39m\u001b[38;5;124m\"\u001b[39m))\n\u001b[1;32m    168\u001b[0m \u001b[38;5;28;01mif\u001b[39;00m \u001b[38;5;129;01mnot\u001b[39;00m \u001b[38;5;28mself\u001b[39m\u001b[38;5;241m.\u001b[39m_is_IAM():\n\u001b[1;32m    169\u001b[0m     \u001b[38;5;28;01mraise\u001b[39;00m WMLClientError(Messages\u001b[38;5;241m.\u001b[39mget_message(message_id\u001b[38;5;241m=\u001b[39m\u001b[38;5;124m\"\u001b[39m\u001b[38;5;124mapikey_not_provided\u001b[39m\u001b[38;5;124m\"\u001b[39m))\n",
            "\u001b[0;31mWMLClientError\u001b[0m: The specified url is not valid. To authenticate with your Cloud Pak for Data installed software, add `\"instance_id\": \"openshift\"` to your credentials. To authenticate with your Cloud Pak for Data as a Service account, see https://dataplatform.cloud.ibm.com/docs/content/wsj/analyze-data/ml-authentication.html ."
          ]
        }
      ]
    },
    {
      "metadata": {
        "id": "6jsoJutOzDs6"
      },
      "cell_type": "code",
      "source": [
        "client.spaces.list(limit=10)"
      ],
      "execution_count": null,
      "outputs": []
    },
    {
      "metadata": {
        "id": "_10kd5ZqzDs6"
      },
      "cell_type": "markdown",
      "source": [
        "**Action**: Assign space ID below"
      ]
    },
    {
      "metadata": {
        "scrolled": true,
        "id": "tzv9K_5qzDs6"
      },
      "cell_type": "code",
      "source": [
        "\n",
        "space_id = 'Space ID'"
      ],
      "execution_count": null,
      "outputs": []
    },
    {
      "metadata": {
        "id": "jtFpROxzzDs6"
      },
      "cell_type": "markdown",
      "source": [
        "To be able to interact with all resources available in Watson Machine Learning, you need to set **space** which you will be using."
      ]
    },
    {
      "metadata": {
        "id": "M5A8NCgxzDs6"
      },
      "cell_type": "code",
      "source": [
        "client.set.default_space(space_id)"
      ],
      "execution_count": null,
      "outputs": []
    },
    {
      "metadata": {
        "id": "GkjddRd7zDs6"
      },
      "cell_type": "markdown",
      "source": [
        "<a id=\"load\"></a>\n",
        "## 2. Load and explore data"
      ]
    },
    {
      "metadata": {
        "id": "6CKtTQK4zDs7"
      },
      "cell_type": "markdown",
      "source": [
        "### 2.1 Explore data<a id=\"dataset\"></a>\n",
        "\n",
        "In this subsection, you will perform exploratory data analysis of the boston house prices data set."
      ]
    },
    {
      "metadata": {
        "id": "QffnnA8czDs7"
      },
      "cell_type": "code",
      "source": [
        "!pip install --upgrade scikit-learn==0.23.1 seaborn"
      ],
      "execution_count": null,
      "outputs": []
    },
    {
      "metadata": {
        "id": "JxcBuZy3zDs7"
      },
      "cell_type": "code",
      "source": [
        "import sklearn\n",
        "from sklearn import datasets\n",
        "import pandas as pd\n",
        "\n",
        "boston_data = datasets.load_boston()"
      ],
      "execution_count": null,
      "outputs": []
    },
    {
      "metadata": {
        "id": "C-JRISTwzDs7"
      },
      "cell_type": "markdown",
      "source": [
        "Let's check the names of the predictors."
      ]
    },
    {
      "metadata": {
        "id": "on3OUzAXzDs7"
      },
      "cell_type": "code",
      "source": [
        "print(boston_data.feature_names)"
      ],
      "execution_count": null,
      "outputs": []
    },
    {
      "metadata": {
        "id": "0rPoEsfKzDs7"
      },
      "cell_type": "markdown",
      "source": [
        "**Tip:** Run `print(boston_data.DESCR)` to view a detailed description of the data set."
      ]
    },
    {
      "metadata": {
        "id": "0OrF6WI7zDs7"
      },
      "cell_type": "code",
      "source": [
        "print(boston_data.DESCR)"
      ],
      "execution_count": null,
      "outputs": []
    },
    {
      "metadata": {
        "id": "OOgUC08qzDs7"
      },
      "cell_type": "markdown",
      "source": [
        "Create a pandas DataFrame and display some descriptive statistics."
      ]
    },
    {
      "metadata": {
        "id": "aVR5l3lRzDs8"
      },
      "cell_type": "code",
      "source": [
        "boston_pd = pd.DataFrame(boston_data.data)\n",
        "boston_pd.columns = boston_data.feature_names\n",
        "boston_pd['PRICE'] = boston_data.target"
      ],
      "execution_count": null,
      "outputs": []
    },
    {
      "metadata": {
        "id": "brQ4sGnDzDs8"
      },
      "cell_type": "markdown",
      "source": [
        "The describe method generates summary statistics of numerical predictors."
      ]
    },
    {
      "metadata": {
        "id": "BGvOf7QgzDs8"
      },
      "cell_type": "code",
      "source": [
        "boston_pd.describe()"
      ],
      "execution_count": null,
      "outputs": []
    },
    {
      "metadata": {
        "id": "6Uws2A5bzDs8"
      },
      "cell_type": "markdown",
      "source": [
        "### 2.2 Check the correlations between predictors and the target<a id=\"corr\"></a>"
      ]
    },
    {
      "metadata": {
        "id": "Laemtn4izDs8"
      },
      "cell_type": "code",
      "source": [
        "import seaborn as sns\n",
        "%matplotlib inline\n",
        "\n",
        "corr_coeffs = boston_pd.corr()\n",
        "sns.heatmap(corr_coeffs, xticklabels=corr_coeffs.columns, yticklabels=corr_coeffs.columns);"
      ],
      "execution_count": null,
      "outputs": []
    },
    {
      "metadata": {
        "id": "W1NphOl_zDs8"
      },
      "cell_type": "markdown",
      "source": [
        "### 3.1 Split data<a id=\"prep\"></a>\n",
        "\n",
        "In this subsection, you will split the data set into:\n",
        "- Train data set\n",
        "- Test data set"
      ]
    },
    {
      "metadata": {
        "id": "NFnOAunszDs8"
      },
      "cell_type": "code",
      "source": [
        "from sklearn.model_selection import train_test_split\n",
        "\n",
        "X = boston_pd.drop('PRICE', axis = 1)\n",
        "y = boston_pd['PRICE']\n",
        "X_train, X_test, y_train, y_test = train_test_split(X, y, test_size = 0.33, random_state = 5)\n",
        "\n",
        "print('Number of training records: ' + str(X_train.shape[0]))\n",
        "print('Number of test records: ' + str(X_test.shape[0]))"
      ],
      "execution_count": null,
      "outputs": []
    },
    {
      "metadata": {
        "id": "Ji5izUABzDs8"
      },
      "cell_type": "markdown",
      "source": [
        "Your data has been successfully split into two data sets:\n",
        "\n",
        "-  The train data set, which is the largest group, is used for training.\n",
        "-  The test data set will be used for model evaluation and is used to test the model."
      ]
    },
    {
      "metadata": {
        "id": "4AMWBLYmzDs8"
      },
      "cell_type": "markdown",
      "source": [
        "### 3.2 Create a scikit-learn pipeline<a id=\"pipe\"></a>"
      ]
    },
    {
      "metadata": {
        "id": "HzkR4zH1zDs9"
      },
      "cell_type": "markdown",
      "source": [
        "In this subsection, you will create a scikit-learn pipeline."
      ]
    },
    {
      "metadata": {
        "id": "jLPrXqjOzDs9"
      },
      "cell_type": "markdown",
      "source": [
        "First, import the scikit-learn machine learning packages that are needed in the subsequent steps."
      ]
    },
    {
      "metadata": {
        "id": "FAxEAMvIzDs9"
      },
      "cell_type": "code",
      "source": [
        "from sklearn.pipeline import Pipeline\n",
        "from sklearn import preprocessing\n",
        "from sklearn.linear_model import LinearRegression\n",
        "from sklearn.metrics import mean_squared_error"
      ],
      "execution_count": null,
      "outputs": []
    },
    {
      "metadata": {
        "id": "2Pcap32nzDs9"
      },
      "cell_type": "markdown",
      "source": [
        "Standardize the features by removing the mean and by scaling to unit variance."
      ]
    },
    {
      "metadata": {
        "id": "6e06zwZKzDtA"
      },
      "cell_type": "code",
      "source": [
        "scaler = preprocessing.StandardScaler()"
      ],
      "execution_count": null,
      "outputs": []
    },
    {
      "metadata": {
        "id": "wlw5SfB9zDtA"
      },
      "cell_type": "markdown",
      "source": [
        "Next, define the regressor you want to use. This notebook uses the Linear Regression model."
      ]
    },
    {
      "metadata": {
        "id": "lxqDlLxKzDtA"
      },
      "cell_type": "code",
      "source": [
        "lr = LinearRegression()"
      ],
      "execution_count": null,
      "outputs": []
    },
    {
      "metadata": {
        "id": "Q3XGSnRHzDtB"
      },
      "cell_type": "markdown",
      "source": [
        "Build the pipeline. A pipeline consists of a transformer (Standard Scaler) and an estimator (Linear Regression model)."
      ]
    },
    {
      "metadata": {
        "id": "3Xzci8qzzDtB"
      },
      "cell_type": "code",
      "source": [
        "pipeline = Pipeline([('scaler', scaler), ('lr', lr)])"
      ],
      "execution_count": null,
      "outputs": []
    },
    {
      "metadata": {
        "id": "8OQULCLrzDtB"
      },
      "cell_type": "markdown",
      "source": [
        "### 3.3 Train the model<a id=\"train\"></a>"
      ]
    },
    {
      "metadata": {
        "id": "6Z1rN7UMzDtB"
      },
      "cell_type": "markdown",
      "source": [
        "Now, you can use the **pipeline** and **train data** you defined previously to train your SVM model."
      ]
    },
    {
      "metadata": {
        "id": "6dwyD7HEzDtB"
      },
      "cell_type": "code",
      "source": [
        "model = pipeline.fit(X_train, y_train)"
      ],
      "execution_count": null,
      "outputs": []
    },
    {
      "metadata": {
        "id": "VR4yomBmzDtB"
      },
      "cell_type": "markdown",
      "source": [
        "Check the model quality."
      ]
    },
    {
      "metadata": {
        "id": "ZZ_05tEXzDtB"
      },
      "cell_type": "code",
      "source": [
        "y_pred = model.predict(X_test)\n",
        "mse = sklearn.metrics.mean_squared_error(y_test, y_pred)\n",
        "\n",
        "print('MSE: ' + str(mse))"
      ],
      "execution_count": null,
      "outputs": []
    },
    {
      "metadata": {
        "id": "xvV2s1w8zDtB"
      },
      "cell_type": "markdown",
      "source": [
        "Plot the scatter plot of prices vs. predicted prices."
      ]
    },
    {
      "metadata": {
        "id": "4xzVux1OzDtB"
      },
      "cell_type": "code",
      "source": [
        "import matplotlib.pyplot as plt\n",
        "\n",
        "plt.style.use('ggplot')\n",
        "plt.title('Predicted prices vs prices')\n",
        "plt.ylabel('Prices')\n",
        "plt.xlabel('Predicted prices')\n",
        "plot = plt.scatter(y_pred, y_test)"
      ],
      "execution_count": null,
      "outputs": []
    },
    {
      "metadata": {
        "id": "gAMNZoJjzDtC"
      },
      "cell_type": "markdown",
      "source": [
        "**Note:** You can tune your model to achieve better accuracy. To keep this example simple, the tuning section is omitted."
      ]
    },
    {
      "metadata": {
        "id": "eXH-mZw-zDtC"
      },
      "cell_type": "markdown",
      "source": [
        "<a id=\"persistence\"></a>\n",
        "## 4. Save the model in the WML repository"
      ]
    },
    {
      "metadata": {
        "id": "ZuEOFVrWzDtC"
      },
      "cell_type": "markdown",
      "source": [
        "In this section, you will learn how to use the common Python client to manage your model in the WML repository."
      ]
    },
    {
      "metadata": {
        "jupyter": {
          "outputs_hidden": true
        },
        "id": "cyndNWeFzDtC"
      },
      "cell_type": "code",
      "source": [
        "sofware_spec_uid = client.software_specifications.get_id_by_name(\"default_py3.7\")\n",
        "\n",
        "metadata = {\n",
        "            client.repository.ModelMetaNames.NAME: 'Boston house price',\n",
        "            client.repository.ModelMetaNames.TYPE: 'scikit-learn_0.23',\n",
        "            client.repository.ModelMetaNames.SOFTWARE_SPEC_UID: sofware_spec_uid\n",
        "}\n",
        "\n",
        "published_model = client.repository.store_model(\n",
        "    model=model,\n",
        "    meta_props=metadata,\n",
        "    training_data=X_train, training_target=y_train)\n"
      ],
      "execution_count": null,
      "outputs": []
    },
    {
      "metadata": {
        "id": "Nek2_-dYzDtC"
      },
      "cell_type": "code",
      "source": [
        "model_uid = client.repository.get_model_uid(published_model)"
      ],
      "execution_count": null,
      "outputs": []
    },
    {
      "metadata": {
        "id": "yh7G-2v8zDtC"
      },
      "cell_type": "markdown",
      "source": [
        "#### Get information about all of the models in the WML repository."
      ]
    },
    {
      "metadata": {
        "id": "pqFxoE5UzDtC"
      },
      "cell_type": "code",
      "source": [
        "models_details = client.repository.list_models()"
      ],
      "execution_count": null,
      "outputs": []
    },
    {
      "metadata": {
        "id": "EaonppeNzDtC"
      },
      "cell_type": "markdown",
      "source": [
        "<a id=\"scoring\"></a>\n",
        "## 5. Deploy the model via Core ML"
      ]
    },
    {
      "metadata": {
        "id": "DvgJGlhZzDtD"
      },
      "cell_type": "markdown",
      "source": [
        "### 5.1 Create a virtual deployment for the model<a id=\"create\"></a>"
      ]
    },
    {
      "metadata": {
        "id": "h_5nrVnZzDtD"
      },
      "cell_type": "code",
      "source": [
        "client.data_assets.ConfigurationMetaNames.get()"
      ],
      "execution_count": null,
      "outputs": []
    },
    {
      "metadata": {
        "scrolled": true,
        "id": "lQsU3VUtzDtD"
      },
      "cell_type": "code",
      "source": [
        "metadata = {\n",
        "    client.deployments.ConfigurationMetaNames.NAME: \"Virtual deployment of Boston model\",\n",
        "    client.deployments.ConfigurationMetaNames.VIRTUAL: {\"export_format\": \"coreml\"}\n",
        "}\n",
        "\n",
        "created_deployment = client.deployments.create(model_uid, meta_props=metadata)"
      ],
      "execution_count": null,
      "outputs": []
    },
    {
      "metadata": {
        "id": "TnopKlTCzDtD"
      },
      "cell_type": "markdown",
      "source": [
        "Now, you can define and print the download endpoint. You can use this endpoint to download the Core ML model."
      ]
    },
    {
      "metadata": {
        "id": "r9cGd4rmzDtD"
      },
      "cell_type": "markdown",
      "source": [
        "### 5.2 Download the `Core ML` file from the deployment<a id=\"getdeploy\"></a>"
      ]
    },
    {
      "metadata": {
        "id": "b13GH00WzDtD"
      },
      "cell_type": "code",
      "source": [
        "client.deployments.list()"
      ],
      "execution_count": null,
      "outputs": []
    },
    {
      "metadata": {
        "id": "exNKc7xtzDtD"
      },
      "cell_type": "markdown",
      "source": [
        "#### Download the virtual deployment content: Core ML model."
      ]
    },
    {
      "metadata": {
        "scrolled": true,
        "id": "1CqCaVQrzDtD"
      },
      "cell_type": "code",
      "source": [
        "deployment_uid = client.deployments.get_uid(created_deployment)\n",
        "\n",
        "deployment_content = client.deployments.download(deployment_uid)"
      ],
      "execution_count": null,
      "outputs": []
    },
    {
      "metadata": {
        "id": "YjxPDK8azDtE"
      },
      "cell_type": "markdown",
      "source": [
        "Use the code in the cell below to create the download link."
      ]
    },
    {
      "metadata": {
        "id": "qRQEwdvBzDtE"
      },
      "cell_type": "code",
      "source": [
        "from ibm_watson_machine_learning.utils import create_download_link\n",
        "\n",
        "create_download_link(deployment_content)"
      ],
      "execution_count": null,
      "outputs": []
    },
    {
      "metadata": {
        "id": "ixDqnpKdzDtE"
      },
      "cell_type": "markdown",
      "source": [
        "**Note:** You can use <a href=\"https://developer.apple.com/xcode/\" target=\"_blank\" rel=\"noopener no referrer\">Xcode</a> to preview the model's metadata (after unzipping)."
      ]
    },
    {
      "metadata": {
        "id": "WdsN_fXSzDtE"
      },
      "cell_type": "markdown",
      "source": [
        "### 5.3 Test the `Core ML` model<a id=\"testcoreML\"></a>"
      ]
    },
    {
      "metadata": {
        "id": "MRzYu0P6zDtE"
      },
      "cell_type": "markdown",
      "source": [
        "Use the following steps to run a test against the downloaded Core ML model."
      ]
    },
    {
      "metadata": {
        "scrolled": true,
        "id": "Mcj21REPzDtE"
      },
      "cell_type": "code",
      "source": [
        "!pip install --upgrade coremltools"
      ],
      "execution_count": null,
      "outputs": []
    },
    {
      "metadata": {
        "id": "ON8ndLnxzDtE"
      },
      "cell_type": "markdown",
      "source": [
        "Use the ``coremltools`` to load the model and check some basic metadata."
      ]
    },
    {
      "metadata": {
        "id": "NENA294RzDtE"
      },
      "cell_type": "markdown",
      "source": [
        "First, extract the model."
      ]
    },
    {
      "metadata": {
        "id": "MVQkjlVqzDtF"
      },
      "cell_type": "code",
      "source": [
        "from ibm_watson_machine_learning.utils import extract_mlmodel_from_archive\n",
        "\n",
        "extracted_model_path = extract_mlmodel_from_archive('mlartifact.tar.gz', model_uid)"
      ],
      "execution_count": null,
      "outputs": []
    },
    {
      "metadata": {
        "id": "2alwB2jazDtF"
      },
      "cell_type": "markdown",
      "source": [
        "Load the model and check the description."
      ]
    },
    {
      "metadata": {
        "id": "4moWI4_szDtF"
      },
      "cell_type": "code",
      "source": [
        "import coremltools\n",
        "\n",
        "loaded_model = coremltools.models.MLModel(extracted_model_path)\n",
        "print(loaded_model.get_spec())"
      ],
      "execution_count": null,
      "outputs": []
    }
  ],
  "metadata": {
    "kernelspec": {
      "name": "python3",
      "display_name": "Python 3.10",
      "language": "python"
    },
    "language_info": {
      "name": "python",
      "version": "3.10.9",
      "mimetype": "text/x-python",
      "codemirror_mode": {
        "name": "ipython",
        "version": 3
      },
      "pygments_lexer": "ipython3",
      "nbconvert_exporter": "python",
      "file_extension": ".py"
    },
    "colab": {
      "provenance": []
    }
  },
  "nbformat": 4,
  "nbformat_minor": 0
}